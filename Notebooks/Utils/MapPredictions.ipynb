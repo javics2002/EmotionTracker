{
 "cells": [
  {
   "cell_type": "code",
   "execution_count": 1,
   "metadata": {},
   "outputs": [
    {
     "name": "stdout",
     "output_type": "stream",
     "text": [
      "Data saved to ../Sesiones/Grabaciones_Grupo_TFG/20-05-2024/Diego_StardewValley/Diego_StardewValley_Predict_Mapped.csv\n"
     ]
    },
    {
     "name": "stderr",
     "output_type": "stream",
     "text": [
      "C:\\Users\\Diego\\AppData\\Local\\Temp\\ipykernel_12828\\692541231.py:14: FutureWarning: DataFrame.applymap has been deprecated. Use DataFrame.map instead.\n",
      "  data[columns_to_transform] = data[columns_to_transform].applymap(transform)\n"
     ]
    }
   ],
   "source": [
    "import pandas as pd\n",
    "import os\n",
    "\n",
    "# Leer el archivo CSV\n",
    "file_path = '../Sesiones/Grabaciones_Grupo_TFG/20-05-2024/Diego_StardewValley/Diego_StardewValley_Predict.csv'\n",
    "data = pd.read_csv(file_path)\n",
    "\n",
    "# Definir la función de transformación\n",
    "def transform(value):\n",
    "    return 2 * value + 3\n",
    "\n",
    "# Aplicar la transformación a todas las columnas excepto \"time\"\n",
    "columns_to_transform = data.columns.difference(['time'])\n",
    "data[columns_to_transform] = data[columns_to_transform].applymap(transform)\n",
    "\n",
    "# Generar el nuevo nombre de archivo con \"_Mapped\"\n",
    "base_name = os.path.splitext(file_path)[0]\n",
    "new_file_path = base_name + '_Mapped.csv'\n",
    "\n",
    "# Guardar el dataframe transformado en el nuevo archivo CSV\n",
    "data.to_csv(new_file_path, index=False)\n",
    "\n",
    "print(f\"Data saved to {new_file_path}\")\n"
   ]
  }
 ],
 "metadata": {
  "kernelspec": {
   "display_name": "Python 3",
   "language": "python",
   "name": "python3"
  },
  "language_info": {
   "codemirror_mode": {
    "name": "ipython",
    "version": 3
   },
   "file_extension": ".py",
   "mimetype": "text/x-python",
   "name": "python",
   "nbconvert_exporter": "python",
   "pygments_lexer": "ipython3",
   "version": "3.11.7"
  }
 },
 "nbformat": 4,
 "nbformat_minor": 2
}
