{
 "cells": [
  {
   "cell_type": "code",
   "execution_count": 10,
   "metadata": {},
   "outputs": [
    {
     "name": "stdout",
     "output_type": "stream",
     "text": [
      "MSE for Focus: 0.22411508120649662\n",
      "MSE for Amusement: 0.16399744779582365\n",
      "MSE for Surprise: 1.111368909512761\n",
      "MSE for Fright: 0.9268109048723896\n",
      "MSE for Inmersion: 2.750096751740139\n",
      "R² for Focus: -0.18615994073736442\n",
      "R² for Amusement: -2.3856779173149567\n",
      "R² for Surprise: -0.10994086021505356\n",
      "R² for Fright: 0.007486737882212546\n",
      "R² for Inmersion: -2.031454561476383\n"
     ]
    }
   ],
   "source": [
    "import pandas as pd\n",
    "import numpy as np\n",
    "from sklearn.metrics import mean_squared_error\n",
    "from sklearn.metrics import r2_score\n",
    "\n",
    "# Cargar los dataframes desde archivos CSV\n",
    "df1 = pd.read_csv('../Sesiones/Grabaciones_Grupo_TFG/20-05-2024/Rodri_Outlast/Rodri_Outlast_Emotions.csv')\n",
    "df2 = pd.read_csv('../Sesiones/Grabaciones_Grupo_TFG/20-05-2024/Rodri_Outlast/Rodri_Outlast_Predict_Mapped_Emotions.csv')\n",
    "\n",
    "# Determinar el número mínimo de filas entre los dos dataframes\n",
    "min_rows = min(len(df1), len(df2))\n",
    "\n",
    "# Acortar ambos dataframes al número de filas mínimo\n",
    "df1 = df1.iloc[:min_rows]\n",
    "df2 = df2.iloc[:min_rows]\n",
    "# Inicializar un diccionario para almacenar los MSEs\n",
    "mse_values = {}\n",
    "\n",
    "# Calcular el MSE para cada columna excepto 'time'\n",
    "for column in df1.columns[1:]:\n",
    "    mse = mean_squared_error(df1[column], df2[column])\n",
    "    mse_values[column] = mse\n",
    "\n",
    "# Imprimir los resultados\n",
    "for column, mse in mse_values.items():\n",
    "    print(f'MSE for {column}: {mse}')\n",
    "\n",
    "# Inicializar un diccionario para almacenar los R²s\n",
    "r2_values = {}\n",
    "\n",
    "# Calcular el R² para cada columna excepto 'time'\n",
    "for column in df1.columns[1:]:\n",
    "    r2 = r2_score(df1[column], df2[column])\n",
    "    r2_values[column] = r2\n",
    "\n",
    "# Imprimir los resultados\n",
    "for column, r2 in r2_values.items():\n",
    "    print(f'R² for {column}: {r2}')"
   ]
  }
 ],
 "metadata": {
  "kernelspec": {
   "display_name": "base",
   "language": "python",
   "name": "python3"
  },
  "language_info": {
   "codemirror_mode": {
    "name": "ipython",
    "version": 3
   },
   "file_extension": ".py",
   "mimetype": "text/x-python",
   "name": "python",
   "nbconvert_exporter": "python",
   "pygments_lexer": "ipython3",
   "version": "3.11.4"
  }
 },
 "nbformat": 4,
 "nbformat_minor": 2
}
