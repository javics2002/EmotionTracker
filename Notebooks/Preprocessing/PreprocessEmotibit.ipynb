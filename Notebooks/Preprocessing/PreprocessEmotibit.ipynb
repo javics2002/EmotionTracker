{
 "cells": [
  {
   "cell_type": "code",
   "execution_count": null,
   "metadata": {},
   "outputs": [],
   "source": [
    "import pandas as pd\n",
    "import numpy as np\n",
    "from sklearn.preprocessing import StandardScaler\n",
    "\n",
    "# Leer tabla RAW\n",
    "raw_file = '../Raws/RAW_Corregida_10-04-20244.csv'\n",
    "raw_data = pd.read_csv(raw_file) "
   ]
  },
  {
   "cell_type": "code",
   "execution_count": null,
   "metadata": {},
   "outputs": [],
   "source": [
    "raw_emotibit = raw_data.iloc[:, :3].join(raw_data.iloc[:, 30:53])\n",
    "\n",
    "# pd.set_option('display.max_rows', None)\n",
    "pd.set_option('display.max_columns', None)\n",
    "\n",
    "# Seleccionar el rango de columnas desde la columna 4 hasta el final\n",
    "column_range = raw_emotibit.columns[3:]\n",
    "\n",
    "# Eliminar filas con todos los valores NaN en el rango de columnas seleccionado\n",
    "clean_emotibit = raw_emotibit.dropna(subset=column_range, how='all')\n",
    "\n",
    "# Dropear tags no biometricas\n",
    "clean_emotibit = clean_emotibit.drop('H0', axis=1)\n",
    "clean_emotibit = clean_emotibit.drop('T0', axis=1)\n",
    "clean_emotibit = clean_emotibit.drop('ER', axis=1)\n",
    "\n",
    "# Realizar interpolacion \n",
    "clean_emotibit = clean_emotibit.interpolate(method='slinear')\n",
    "\n",
    "# Rellenar NaNs al principio con el valor más cercano que no sea NaN\n",
    "clean_emotibit.ffill(inplace=True)\n",
    "\n",
    "# Rellenar NaNs al final con el valor más cercano que no sea NaN\n",
    "clean_emotibit.bfill(inplace=True)\n",
    "\n",
    "# Aplicar Standard Scaler\n",
    "scaler = StandardScaler()\n",
    "\n",
    "# Seleccionar el rango de columnas desde la columna 4 hasta el final\n",
    "column_range = clean_emotibit.columns[3:]\n",
    "\n",
    "# Aplicar StandardScaler a las columnas seleccionadas\n",
    "clean_emotibit[column_range] = scaler.fit_transform(clean_emotibit[column_range])\n",
    "\n",
    "display(clean_emotibit)\n",
    "    "
   ]
  }
 ],
 "metadata": {
  "kernelspec": {
   "display_name": "Python 3",
   "language": "python",
   "name": "python3"
  },
  "language_info": {
   "codemirror_mode": {
    "name": "ipython",
    "version": 3
   },
   "file_extension": ".py",
   "mimetype": "text/x-python",
   "name": "python",
   "nbconvert_exporter": "python",
   "pygments_lexer": "ipython3",
   "version": "3.11.5"
  }
 },
 "nbformat": 4,
 "nbformat_minor": 2
}
