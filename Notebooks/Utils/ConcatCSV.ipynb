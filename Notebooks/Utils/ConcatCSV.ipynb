{
 "cells": [
  {
   "cell_type": "code",
   "execution_count": 1,
   "metadata": {},
   "outputs": [
    {
     "name": "stderr",
     "output_type": "stream",
     "text": [
      "C:\\Users\\Javier\\AppData\\Local\\Temp\\ipykernel_4376\\2204498299.py:14: DtypeWarning: Columns (68) have mixed types. Specify dtype option on import or set low_memory=False.\n",
      "  df = pd.read_csv(os.path.join(carpeta, archivo))\n",
      "C:\\Users\\Javier\\AppData\\Local\\Temp\\ipykernel_4376\\2204498299.py:14: DtypeWarning: Columns (68) have mixed types. Specify dtype option on import or set low_memory=False.\n",
      "  df = pd.read_csv(os.path.join(carpeta, archivo))\n",
      "C:\\Users\\Javier\\AppData\\Local\\Temp\\ipykernel_4376\\2204498299.py:14: DtypeWarning: Columns (68) have mixed types. Specify dtype option on import or set low_memory=False.\n",
      "  df = pd.read_csv(os.path.join(carpeta, archivo))\n",
      "C:\\Users\\Javier\\AppData\\Local\\Temp\\ipykernel_4376\\2204498299.py:14: DtypeWarning: Columns (68) have mixed types. Specify dtype option on import or set low_memory=False.\n",
      "  df = pd.read_csv(os.path.join(carpeta, archivo))\n",
      "C:\\Users\\Javier\\AppData\\Local\\Temp\\ipykernel_4376\\2204498299.py:14: DtypeWarning: Columns (68) have mixed types. Specify dtype option on import or set low_memory=False.\n",
      "  df = pd.read_csv(os.path.join(carpeta, archivo))\n",
      "C:\\Users\\Javier\\AppData\\Local\\Temp\\ipykernel_4376\\2204498299.py:14: DtypeWarning: Columns (68) have mixed types. Specify dtype option on import or set low_memory=False.\n",
      "  df = pd.read_csv(os.path.join(carpeta, archivo))\n",
      "C:\\Users\\Javier\\AppData\\Local\\Temp\\ipykernel_4376\\2204498299.py:14: DtypeWarning: Columns (68) have mixed types. Specify dtype option on import or set low_memory=False.\n",
      "  df = pd.read_csv(os.path.join(carpeta, archivo))\n",
      "C:\\Users\\Javier\\AppData\\Local\\Temp\\ipykernel_4376\\2204498299.py:14: DtypeWarning: Columns (68) have mixed types. Specify dtype option on import or set low_memory=False.\n",
      "  df = pd.read_csv(os.path.join(carpeta, archivo))\n",
      "C:\\Users\\Javier\\AppData\\Local\\Temp\\ipykernel_4376\\2204498299.py:14: DtypeWarning: Columns (68) have mixed types. Specify dtype option on import or set low_memory=False.\n",
      "  df = pd.read_csv(os.path.join(carpeta, archivo))\n"
     ]
    }
   ],
   "source": [
    "import os\n",
    "import pandas as pd\n",
    "\n",
    "# Ruta de la carpeta que contiene los archivos CSV\n",
    "carpeta = '../Raws/Segunda_Temporada_Grabaciones/Raws_Correct'\n",
    "\n",
    "# Lista para almacenar los DataFrames de cada archivo CSV\n",
    "dfs = []\n",
    "\n",
    "# Recorre cada archivo en la carpeta\n",
    "for archivo in os.listdir(carpeta):\n",
    "    if archivo.endswith('.csv'):\n",
    "        # Lee el archivo CSV y convierte su contenido en un DataFrame\n",
    "        df = pd.read_csv(os.path.join(carpeta, archivo))\n",
    "        \n",
    "        # Agrega el DataFrame a la lista\n",
    "        dfs.append(df)\n",
    "\n",
    "# Concatena todos los DataFrames en uno solo\n",
    "df_concatenado = pd.concat(dfs, ignore_index=True)\n",
    "\n",
    "# Combina la ruta de la carpeta y el nombre del archivo para obtener la ruta completa\n",
    "file_path = \"RAW_10-04-2024.csv\"\n",
    "\n",
    "# Exporta el DataFrame a un archivo CSV en la ruta especificada\n",
    "df_concatenado.to_csv(file_path, index=False)  # Si no deseas guardar el índice del DataFrame, puedes establecer index=False\n"
   ]
  }
 ],
 "metadata": {
  "kernelspec": {
   "display_name": "Python 3",
   "language": "python",
   "name": "python3"
  },
  "language_info": {
   "codemirror_mode": {
    "name": "ipython",
    "version": 3
   },
   "file_extension": ".py",
   "mimetype": "text/x-python",
   "name": "python",
   "nbconvert_exporter": "python",
   "pygments_lexer": "ipython3",
   "version": "3.10.0"
  }
 },
 "nbformat": 4,
 "nbformat_minor": 2
}
