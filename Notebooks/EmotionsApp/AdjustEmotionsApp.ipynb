{
 "cells": [
  {
   "cell_type": "code",
   "execution_count": 35,
   "metadata": {},
   "outputs": [
    {
     "name": "stderr",
     "output_type": "stream",
     "text": [
      "C:\\Users\\rodri\\AppData\\Local\\Temp\\ipykernel_30420\\3971004731.py:21: FutureWarning: The frame.append method is deprecated and will be removed from pandas in a future version. Use pandas.concat instead.\n",
      "  new_data = new_data.append(new_row, ignore_index=True)\n"
     ]
    },
    {
     "name": "stdout",
     "output_type": "stream",
     "text": [
      "Proceso completado y guardado en 'datos_nuevo.csv'\n"
     ]
    },
    {
     "name": "stderr",
     "output_type": "stream",
     "text": [
      "C:\\Users\\rodri\\AppData\\Local\\Temp\\ipykernel_30420\\3971004731.py:26: FutureWarning: The frame.append method is deprecated and will be removed from pandas in a future version. Use pandas.concat instead.\n",
      "  new_data = new_data.append(last_row, ignore_index=True)\n"
     ]
    }
   ],
   "source": [
    "import pandas as pd\n",
    "import numpy as np\n",
    "\n",
    "# Leer el archivo CSV\n",
    "data = pd.read_csv('../Sesiones/Grabaciones_Grupo_TFG/20-05-2024/Rodri_Outlast/Rodri_Outlast_Emotions00.csv')\n",
    "\n",
    "# Redondear el tiempo a números discretos (enteros)\n",
    "data['time'] = data['time'].fillna(method='ffill').astype(float).round().astype(int)\n",
    "# Crear un nuevo DataFrame para almacenar los resultados\n",
    "new_data = pd.DataFrame(columns=['time', 'Focus', 'Amusement', 'Surprise', 'Fright', 'Inmersion'])\n",
    "# Rellenar los datos por cada segundo hasta el siguiente dato\n",
    "for i in range(len(data) - 1):\n",
    "    current_row = data.iloc[i]\n",
    "    next_row = data.iloc[i + 1]\n",
    "    current_row_time = current_row[0].astype(int)\n",
    "    next_row_time = next_row[0].astype(int)\n",
    "\n",
    "    for t in range(current_row_time, next_row_time):\n",
    "        new_row = current_row.copy()\n",
    "        new_row['time'] = t\n",
    "        new_data = new_data.append(new_row, ignore_index=True)\n",
    "\n",
    "# Añadir la última fila\n",
    "last_row = data.iloc[-1].copy()\n",
    "last_row['time'] = data.iloc[-1]['time']\n",
    "new_data = new_data.append(last_row, ignore_index=True)\n",
    "\n",
    "# Guardar el nuevo DataFrame en un archivo CSV\n",
    "new_data.to_csv('../Sesiones/Grabaciones_Grupo_TFG/20-05-2024/Rodri_Outlast/Rodri_Outlast_Emotions.csv', index=False)\n",
    "\n",
    "print(\"Proceso completado y guardado en 'datos_nuevo.csv'\")"
   ]
  }
 ],
 "metadata": {
  "kernelspec": {
   "display_name": "base",
   "language": "python",
   "name": "python3"
  },
  "language_info": {
   "codemirror_mode": {
    "name": "ipython",
    "version": 3
   },
   "file_extension": ".py",
   "mimetype": "text/x-python",
   "name": "python",
   "nbconvert_exporter": "python",
   "pygments_lexer": "ipython3",
   "version": "3.11.4"
  }
 },
 "nbformat": 4,
 "nbformat_minor": 2
}
