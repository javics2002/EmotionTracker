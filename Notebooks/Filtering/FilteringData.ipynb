{
 "cells": [
  {
   "cell_type": "code",
   "execution_count": null,
   "id": "ba3ae736",
   "metadata": {},
   "outputs": [],
   "source": [
    "import pandas as pd\n",
    "import matplotlib.pyplot as plt\n",
    "from scipy import signal\n",
    "from math import pi\n",
    "from scipy.signal import cheby1, lfilter\n",
    "import numpy as np\n",
    "# Cargar los datos EEG desde un archivo CSV\n",
    "# Suponiendo que tienes un archivo CSV llamado 'eeg_data.csv' con una columna 'eeg_signal'\n",
    "data = pd.read_csv('../Sesiones/Grabaciones_Sujetos_De_Prueba/04-03-2024/Laura_PT/EEG/sub-001/ses-001/subj-1_ses-S001_task-Laura_PT_run-002_20240304_131428_eeg_8259c745-af2f-4316-b25e-8ee73041cbcd-raw.csv')\n",
    "\n",
    "# Plotear la señal EEG\n",
    "#plt.figure(figsize=(10, 6))\n",
    "#plt.plot(data, color='blue')\n",
    "#plt.title('Señal EEG')\n",
    "#plt.xlabel('Muestras')\n",
    "#plt.ylabel('Amplitud')\n",
    "#plt.grid(True)\n",
    "#plt.show()"
   ]
  },
  {
   "cell_type": "markdown",
   "id": "8dec2124",
   "metadata": {},
   "source": [
    "# EJEMPLO DE UN FILTRO DE SCIPI"
   ]
  },
  {
   "cell_type": "code",
   "execution_count": null,
   "id": "2c8cd969",
   "metadata": {},
   "outputs": [],
   "source": [
    "#filter = signal.firwin(400, [0.01, 0.06], pass_zero=False)\n",
    "#plt.plot(filter)\n",
    "#plt.show()\n",
    "#data2 = signal.convolve(data, filter, mode='same')"
   ]
  },
  {
   "cell_type": "markdown",
   "id": "2b16f5d7",
   "metadata": {},
   "source": [
    "# EJEMPLO DE UN FILTRO PASA BAJA BUTTERWORTH"
   ]
  },
  {
   "cell_type": "code",
   "execution_count": null,
   "id": "79160949",
   "metadata": {
    "scrolled": true
   },
   "outputs": [],
   "source": [
    "# Definir un filtro, por ejemplo, un filtro pasa baja Butterworth\n",
    "order = 6\n",
    "fs = 2000  # Frecuencia de muestreo (Hz)\n",
    "fc = 50  # Frecuencia de corte (Hz)\n",
    "b, a = signal.butter(order, fc / (fs / 2), 'low')\n",
    "\n",
    "# Aplicar el filtro a la señal EEG\n",
    "filtered_data = signal.filtfilt(b, a, data)"
   ]
  },
  {
   "cell_type": "code",
   "execution_count": null,
   "id": "e225d337",
   "metadata": {},
   "outputs": [],
   "source": [
    "# Plotear la señal EEG original y la señal filtrada\n",
    "plt.figure(figsize=(10, 6))\n",
    "plt.plot(data, color='blue', label='Señal EEG Original')\n",
    "plt.plot(filtered_data, color='red', label='Señal EEG Filtrada')\n",
    "plt.title('Señal EEG')\n",
    "plt.xlabel('Muestras')\n",
    "plt.ylabel('Amplitud')\n",
    "plt.legend()\n",
    "plt.grid(True)\n",
    "plt.show()"
   ]
  },
  {
   "cell_type": "markdown",
   "id": "8a35ed6c",
   "metadata": {},
   "source": [
    "# EJEMPLO DE FILTRO PASA ALTA BUTTERWORTH"
   ]
  },
  {
   "cell_type": "code",
   "execution_count": null,
   "id": "88eb1f22",
   "metadata": {},
   "outputs": [],
   "source": [
    "# Definir un filtro pasa alta Butterworth\n",
    "fc = 0.5  # Frecuencia de corte (Hz)\n",
    "b_high, a_high = signal.butter(order, fc / (fs / 2), 'high')\n",
    "\n",
    "# Aplicar el filtro pasa alta a la señal EEG\n",
    "filtered_data_high = signal.filtfilt(b_high, a_high, data)"
   ]
  },
  {
   "cell_type": "code",
   "execution_count": null,
   "id": "44bafa76",
   "metadata": {},
   "outputs": [],
   "source": [
    "# Plotear la señal EEG original y la señal filtrada\n",
    "#plt.figure(figsize=(10, 6))\n",
    "#plt.plot(data, color='blue', label='Señal EEG Original')\n",
    "#plt.plot(filtered_data_high, color='red', label='Señal EEG Filtrada')\n",
    "#plt.title('Señal EEG')\n",
    "#plt.xlabel('Muestras')\n",
    "#plt.ylabel('Amplitud')\n",
    "#plt.legend()\n",
    "#plt.grid(True)\n",
    "#plt.show()"
   ]
  },
  {
   "cell_type": "markdown",
   "id": "1bad2b59",
   "metadata": {},
   "source": [
    "# EJEMPLO Filtro Chebyshev Tipo I:"
   ]
  },
  {
   "cell_type": "code",
   "execution_count": null,
   "id": "6b486138",
   "metadata": {},
   "outputs": [],
   "source": [
    "# Frecuencia de muestreo (Hz)\n",
    "fs = 1000\n",
    "\n",
    "# Frecuencias de corte (Hz)\n",
    "f_low = 8\n",
    "f_high = 12\n",
    "\n",
    "# Orden del filtro\n",
    "order = 4\n",
    "\n",
    "# Calcular las frecuencias normalizadas de corte\n",
    "f_low_norm = f_low / (fs / 2)\n",
    "f_high_norm = f_high / (fs / 2)\n",
    "\n",
    "# Diseñar el filtro pasa banda Chebyshev Tipo I\n",
    "ripple = 0.5  # Ondulación en la banda de paso (en dB)\n",
    "b, a = cheby1(order, ripple, [f_low_norm, f_high_norm], btype='band')\n",
    "\n",
    "# Aplicar el filtro a la señal EEG\n",
    "filtered_signal = lfilter(b, a, data)"
   ]
  },
  {
   "cell_type": "code",
   "execution_count": null,
   "id": "869ef361",
   "metadata": {},
   "outputs": [],
   "source": [
    "# Plotear la señal EEG original y la señal filtrada\n",
    "#plt.figure(figsize=(10, 6))\n",
    "#plt.plot(data, color='blue', label='Señal EEG Original')\n",
    "#plt.plot(filtered_signal, color='red', label='Señal EEG Filtrada')\n",
    "#plt.title('Señal EEG')\n",
    "#plt.xlabel('Muestras')\n",
    "#plt.ylabel('Amplitud')\n",
    "#plt.legend()\n",
    "#plt.grid(True)\n",
    "#plt.show()"
   ]
  },
  {
   "cell_type": "markdown",
   "id": "552db256",
   "metadata": {},
   "source": [
    "# EJEMPLO DE FILTRO CHEVY2"
   ]
  },
  {
   "cell_type": "code",
   "execution_count": null,
   "id": "c2cd8aa3",
   "metadata": {},
   "outputs": [],
   "source": [
    "from scipy.signal import cheby2\n",
    "\n",
    "# Diseñar el filtro pasa banda Chebyshev Tipo II\n",
    "stop_attenuation = 30  # Atenuación en la banda de paro (en dB)\n",
    "b, a = cheby2(order, stop_attenuation, [f_low_norm, f_high_norm], btype='band')\n",
    "\n",
    "# Aplicar el filtro a la señal EEG\n",
    "filtered_signal_cheby2 = lfilter(b, a, data)"
   ]
  },
  {
   "cell_type": "code",
   "execution_count": null,
   "id": "b8465b46",
   "metadata": {},
   "outputs": [],
   "source": [
    "# Plotear la señal EEG original y la señal filtrada\n",
    "#plt.figure(figsize=(10, 6))\n",
    "#plt.plot(data, color='blue', label='Señal EEG Original')\n",
    "#plt.plot(filtered_signal_cheby2, color='red', label='Señal EEG Filtrada')\n",
    "#plt.title('Señal EEG')\n",
    "#plt.xlabel('Muestras')\n",
    "#plt.ylabel('Amplitud')\n",
    "#plt.legend()\n",
    "#plt.grid(True)\n",
    "#plt.show()"
   ]
  },
  {
   "cell_type": "markdown",
   "id": "3a447f69",
   "metadata": {},
   "source": [
    "# EJEMPO DE FILTRO BESSEL"
   ]
  },
  {
   "cell_type": "code",
   "execution_count": null,
   "id": "4848a4c8",
   "metadata": {},
   "outputs": [],
   "source": [
    "from scipy.signal import bessel\n",
    "\n",
    "# Diseñar el filtro pasa banda Bessel\n",
    "b, a = bessel(order, [f_low_norm, f_high_norm], btype='band')\n",
    "\n",
    "# Aplicar el filtro a la señal EEG\n",
    "filtered_signal_bessel = lfilter(b, a, data)"
   ]
  },
  {
   "cell_type": "code",
   "execution_count": null,
   "id": "af35937f",
   "metadata": {},
   "outputs": [],
   "source": [
    "# Plotear la señal EEG original y la señal filtrada\n",
    "#plt.figure(figsize=(10, 6))\n",
    "#plt.plot(data, color='blue', label='Señal EEG Original')\n",
    "#plt.plot(filtered_signal_bessel, color='red', label='Señal EEG Filtrada')\n",
    "#plt.title('Señal EEG')\n",
    "#plt.xlabel('Muestras')\n",
    "#plt.ylabel('Amplitud')\n",
    "#plt.legend()\n",
    "#plt.grid(True)\n",
    "#plt.show()"
   ]
  },
  {
   "cell_type": "markdown",
   "id": "628a2cfb",
   "metadata": {},
   "source": [
    "# EJEMPLO DE FILTRO FIRWIN"
   ]
  },
  {
   "cell_type": "code",
   "execution_count": null,
   "id": "e69077d7",
   "metadata": {},
   "outputs": [],
   "source": [
    "from scipy.signal import firwin\n",
    "\n",
    "# Diseñar un filtro FIR pasa banda\n",
    "b = firwin(numtaps=order+1, cutoff=[f_low_norm, f_high_norm], pass_zero=False)\n",
    "\n",
    "# Aplicar el filtro FIR a la señal EEG\n",
    "filtered_signal_fir = lfilter(b, 1, data)"
   ]
  },
  {
   "cell_type": "code",
   "execution_count": null,
   "id": "93edb21d",
   "metadata": {},
   "outputs": [],
   "source": [
    "# Plotear la señal EEG original y la señal filtrada\n",
    "#plt.figure(figsize=(10, 6))\n",
    "#plt.plot(data, color='blue', label='Señal EEG Original')\n",
    "#plt.plot(filtered_signal_fir, color='red', label='Señal EEG Filtrada')\n",
    "#plt.title('Señal EEG')\n",
    "#plt.xlabel('Muestras')\n",
    "#plt.ylabel('Amplitud')\n",
    "#plt.legend()\n",
    "#plt.grid(True)\n",
    "#plt.show()"
   ]
  },
  {
   "cell_type": "markdown",
   "id": "18ca24c2",
   "metadata": {},
   "source": [
    "# EJEMPLO FILTRO IIR"
   ]
  },
  {
   "cell_type": "code",
   "execution_count": null,
   "id": "22443bd3",
   "metadata": {},
   "outputs": [],
   "source": [
    "# Coeficientes del filtro IIR personalizado\n",
    "b_custom = [1, 0.5, 0.2]  # Coeficientes del numerador\n",
    "a_custom = [1, -0.3, 0.1]  # Coeficientes del denominador\n",
    "\n",
    "# Aplicar el filtro IIR personalizado a la señal EEG\n",
    "filtered_signal_custom = lfilter(b_custom, a_custom, data)"
   ]
  },
  {
   "cell_type": "code",
   "execution_count": null,
   "id": "0416f79e",
   "metadata": {},
   "outputs": [],
   "source": [
    "# Plotear la señal EEG original y la señal filtrada\n",
    "#plt.figure(figsize=(10, 6))\n",
    "#plt.plot(data, color='blue', label='Señal EEG Original')\n",
    "#plt.plot(filtered_signal_custom, color='red', label='Señal EEG Filtrada')\n",
    "#plt.title('Señal EEG')\n",
    "#plt.xlabel('Muestras')\n",
    "#plt.ylabel('Amplitud')\n",
    "#plt.legend()\n",
    "#plt.grid(True)\n",
    "#plt.show()"
   ]
  },
  {
   "cell_type": "code",
   "execution_count": null,
   "id": "0fe2988a",
   "metadata": {},
   "outputs": [],
   "source": [
    "import matplotlib.pyplot as plt\n",
    "import plotly.graph_objs as go\n",
    "\n",
    "# Crear trazados de Plotly para la señal original y la señal filtrada\n",
    "trace_original = go.Scatter(x=np.arange(len(data)) / fs, y=data, mode='lines', name='Señal EEG Original')\n",
    "trace_filtrada = go.Scatter(x=np.arange(len(filtered_data)) / fs, y=filtered_data, mode='lines', name='Señal EEG Filtrada')\n",
    "\n",
    "# Crear la figura de Plotly\n",
    "#fig = go.Figure(data=[trace_original, trace_filtrada])\n",
    "#\n",
    "## Personalizar el diseño de la figura\n",
    "#fig.update_layout(title='Señal EEG Original vs Filtrada',\n",
    "#                  xaxis_title='Tiempo (s)',\n",
    "#                  yaxis_title='Amplitud')\n",
    "#\n",
    "## Mostrar la figura interactiva\n",
    "#fig.show()"
   ]
  },
  {
   "cell_type": "code",
   "execution_count": null,
   "id": "bc50e2e1",
   "metadata": {},
   "outputs": [],
   "source": []
  },
  {
   "cell_type": "code",
   "execution_count": null,
   "id": "bcf4100e",
   "metadata": {},
   "outputs": [],
   "source": []
  }
 ],
 "metadata": {
  "kernelspec": {
   "display_name": "Python 3 (ipykernel)",
   "language": "python",
   "name": "python3"
  },
  "language_info": {
   "codemirror_mode": {
    "name": "ipython",
    "version": 3
   },
   "file_extension": ".py",
   "mimetype": "text/x-python",
   "name": "python",
   "nbconvert_exporter": "python",
   "pygments_lexer": "ipython3",
   "version": "3.11.4"
  }
 },
 "nbformat": 4,
 "nbformat_minor": 5
}
